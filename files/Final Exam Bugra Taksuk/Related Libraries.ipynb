{
 "cells": [
  {
   "cell_type": "code",
   "execution_count": null,
   "id": "hairy-excerpt",
   "metadata": {},
   "outputs": [],
   "source": [
    "import pandas as pd \n",
    "import numpy as np\n",
    "import seaborn as sns \n",
    "import matplotlib.pyplot as plt \n",
    "from datetime import datetime"
   ]
  },
  {
   "cell_type": "code",
   "execution_count": null,
   "id": "divided-element",
   "metadata": {},
   "outputs": [],
   "source": [
    "import warnings\n",
    "warnings.filterwarnings('ignore')"
   ]
  },
  {
   "cell_type": "code",
   "execution_count": null,
   "id": "informal-hawaiian",
   "metadata": {},
   "outputs": [],
   "source": [
    "sns.set(rc={'figure.figsize':(12,9)})"
   ]
  },
  {
   "cell_type": "code",
   "execution_count": null,
   "id": "manufactured-terrace",
   "metadata": {},
   "outputs": [],
   "source": [
    "firms.insert(1, 'trend', range(1,len(firms)+1))"
   ]
  },
  {
   "cell_type": "code",
   "execution_count": null,
   "id": "metropolitan-baptist",
   "metadata": {},
   "outputs": [],
   "source": [
    "import statsmodels.api as sm"
   ]
  },
  {
   "cell_type": "code",
   "execution_count": null,
   "id": "theoretical-replacement",
   "metadata": {},
   "outputs": [],
   "source": [
    "fig = plt.figure(figsize=(12,8))\n",
    "fig = sm.graphics.plot_regress_exog(model, 'trend', fig=fig)"
   ]
  },
  {
   "cell_type": "code",
   "execution_count": null,
   "id": "organized-allowance",
   "metadata": {},
   "outputs": [],
   "source": [
    "from statsmodels.graphics.tsaplots import plot_acf\n",
    "plot_acf(model.resid)"
   ]
  },
  {
   "cell_type": "code",
   "execution_count": null,
   "id": "julian-creation",
   "metadata": {},
   "outputs": [],
   "source": [
    "from statsmodels.graphics.tsaplots import plot_pacf\n",
    "plot_pacf(model.resid)"
   ]
  },
  {
   "cell_type": "code",
   "execution_count": null,
   "id": "finished-theology",
   "metadata": {},
   "outputs": [],
   "source": [
    "firms['month'] = pd.DatetimeIndex(df['Date']).month"
   ]
  },
  {
   "cell_type": "code",
   "execution_count": null,
   "id": "inner-latvia",
   "metadata": {},
   "outputs": [],
   "source": [
    "lm = sm.OLS(y.astype(float),X)\n",
    "model = lm.fit()\n",
    "model.summary()"
   ]
  },
  {
   "cell_type": "code",
   "execution_count": null,
   "id": "exotic-annex",
   "metadata": {},
   "outputs": [],
   "source": [
    "new_df = pd.DataFrame(model.fittedvalues,  index = model.fittedvalues.index)\n",
    "new_df.columns = [\"Fitted\"]\n",
    "new_df[\"Real\"] = firms[\"Total\"]\n",
    "plt.plot(firms.trend,new_df.Fitted, c = \"r\")\n",
    "plt.plot(firms.trend,new_df.Real, c = \"b\")\n",
    "plt.show()"
   ]
  },
  {
   "cell_type": "code",
   "execution_count": null,
   "id": "original-hepatitis",
   "metadata": {},
   "outputs": [],
   "source": [
    "lag = firms[\"Total\"].shift(-1)\n",
    "firms[\"lag\"] = lag\n",
    "firms.drop(firms.tail(1).index, inplace = True)"
   ]
  },
  {
   "cell_type": "code",
   "execution_count": null,
   "id": "dominant-illinois",
   "metadata": {},
   "outputs": [],
   "source": [
    "index = cons[\"Date\"]+ \" \" +cons[\"Hour\"]\n",
    "hourly_date = pd.to_datetime(index, format = \"%d/%m/%Y %H:%M\")\n",
    "cons.rename(columns={\"Consumption (MWh)\": \"Consumption\"}, inplace = True)\n",
    "cons.set_index(hourly_date, inplace = True)\n",
    "cons[\"Date\"] = pd.to_datetime(cons[\"Date\"], format = \"%d/%m/%Y\")\n",
    "cons['Day'] = cons['Date'].dt.day_name()\n",
    "cons['Month'] = cons['Date'].dt.month_name()\n",
    "cons['Week'] = cons.Date.apply(lambda x : x.weekofyear)"
   ]
  },
  {
   "cell_type": "code",
   "execution_count": null,
   "id": "floppy-option",
   "metadata": {},
   "outputs": [],
   "source": [
    "sns.lineplot(x = cons.index, y = \"Consumption\", hue = \"Hour\", data = cons);"
   ]
  },
  {
   "cell_type": "code",
   "execution_count": null,
   "id": "tight-canon",
   "metadata": {},
   "outputs": [],
   "source": [
    "sns.set(rc={'figure.figsize':(16,9)})\n",
    "sns.lineplot(x = cons.Hour, y = \"Consumption\", data = cons);"
   ]
  },
  {
   "cell_type": "code",
   "execution_count": null,
   "id": "major-declaration",
   "metadata": {},
   "outputs": [],
   "source": [
    "sns.set(rc={'figure.figsize':(16,9)})\n",
    "sns.lineplot(x = cons.Week, y = \"Consumption\", data = cons);"
   ]
  },
  {
   "cell_type": "code",
   "execution_count": null,
   "id": "removed-pricing",
   "metadata": {},
   "outputs": [],
   "source": [
    "sns.set(rc={'figure.figsize':(12,9)})\n",
    "sns.lineplot(x = cons.Month, y = \"Consumption\", data = cons);"
   ]
  },
  {
   "cell_type": "code",
   "execution_count": null,
   "id": "portable-ideal",
   "metadata": {},
   "outputs": [],
   "source": [
    "from statsmodels.tsa.seasonal import seasonal_decompose\n",
    "result = seasonal_decompose(weekly, model='multiplicative', period = 24*7*52) # Since the data is hourly one week is equal to 24*7*52\n",
    "result.plot()\n",
    "plt.show();"
   ]
  },
  {
   "cell_type": "code",
   "execution_count": null,
   "id": "chicken-thirty",
   "metadata": {},
   "outputs": [],
   "source": [
    "plt.title(label='Detrended and Deseasoned Consumption')\n",
    "plt.xlabel(\"Year\")\n",
    "plt.ylabel(\"Consumption/Trend*Seasonality\")\n",
    "plt.legend()\n",
    "plt.show()"
   ]
  },
  {
   "cell_type": "code",
   "execution_count": null,
   "id": "improving-kenya",
   "metadata": {},
   "outputs": [],
   "source": [
    "from statsmodels.tsa.arima.model import ARIMA\n",
    "model = ARIMA(model_data, order=(3,0,0))\n",
    "model_fit = model.fit()\n",
    "model_fit.summary()"
   ]
  },
  {
   "cell_type": "code",
   "execution_count": null,
   "id": "eastern-clearance",
   "metadata": {},
   "outputs": [],
   "source": [
    "forecast = model_fit.forecast(steps = 24*14)"
   ]
  },
  {
   "cell_type": "code",
   "execution_count": null,
   "id": "whole-hours",
   "metadata": {},
   "outputs": [],
   "source": [
    "errors = test_data - forecast_normalized\n",
    "err_df = pd.DataFrame(errors, index = test_data.index)\n",
    "err_df.columns = [\"Daily Error\"]\n",
    "err_df.plot()\n",
    "plt.ylabel(\"Residuals\")\n",
    "plt.title(\"Difference of Real Values and Forecasted Values\")\n",
    "plt.legend()\n",
    "plt.show();"
   ]
  },
  {
   "cell_type": "code",
   "execution_count": null,
   "id": "warming-finland",
   "metadata": {},
   "outputs": [],
   "source": [
    "dmape = err_df[\"Daily Error\"]/ test_data\n",
    "dmape = pd.DataFrame(dmape)\n",
    "dmape.columns = [\"Daily Mean Absolute Percentage Error\"]\n",
    "dmape"
   ]
  },
  {
   "cell_type": "code",
   "execution_count": null,
   "id": "moral-indian",
   "metadata": {},
   "outputs": [],
   "source": [
    "se_mape = abs(test_data-forecast_normalized)/test_data\n",
    "ft_actual_sum = test_data.sum()\n",
    "se_actual_prod_mape = test_data * se_mape\n",
    "ft_actual_prod_mape_sum = se_actual_prod_mape.sum()\n",
    "ft_wmape_forecast = ft_actual_prod_mape_sum / ft_actual_sum\n",
    "ft_wmape_forecast"
   ]
  },
  {
   "cell_type": "code",
   "execution_count": null,
   "id": "employed-partnership",
   "metadata": {},
   "outputs": [],
   "source": [
    "plt.boxplot(sold);"
   ]
  },
  {
   "cell_type": "code",
   "execution_count": null,
   "id": "amino-operations",
   "metadata": {},
   "outputs": [],
   "source": []
  },
  {
   "cell_type": "code",
   "execution_count": null,
   "id": "fifty-faith",
   "metadata": {},
   "outputs": [],
   "source": []
  }
 ],
 "metadata": {
  "kernelspec": {
   "display_name": "Python 3",
   "language": "python",
   "name": "python3"
  },
  "language_info": {
   "codemirror_mode": {
    "name": "ipython",
    "version": 3
   },
   "file_extension": ".py",
   "mimetype": "text/x-python",
   "name": "python",
   "nbconvert_exporter": "python",
   "pygments_lexer": "ipython3",
   "version": "3.7.3"
  }
 },
 "nbformat": 4,
 "nbformat_minor": 5
}
