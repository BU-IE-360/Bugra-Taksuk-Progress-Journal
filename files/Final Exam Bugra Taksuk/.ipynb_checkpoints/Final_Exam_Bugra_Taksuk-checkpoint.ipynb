{
 "cells": [
  {
   "cell_type": "markdown",
   "id": "stock-excerpt",
   "metadata": {},
   "source": [
    "# Final \n",
    "### Ahmet Buğra Taksuk\n",
    "### 2017402168\n"
   ]
  },
  {
   "cell_type": "markdown",
   "id": "partial-teach",
   "metadata": {},
   "source": [
    "## 1 ) Importing the Data and Manipulations"
   ]
  },
  {
   "cell_type": "markdown",
   "id": "formal-block",
   "metadata": {},
   "source": [
    "## 2 ) Summary statistics "
   ]
  },
  {
   "cell_type": "markdown",
   "id": "magnetic-portsmouth",
   "metadata": {},
   "source": [
    "## 3 ) Variance and Outlier Control "
   ]
  },
  {
   "cell_type": "markdown",
   "id": "challenging-migration",
   "metadata": {},
   "source": [
    "## 4 ) Seasonality and Trend Analysis"
   ]
  },
  {
   "cell_type": "markdown",
   "id": "southern-mississippi",
   "metadata": {},
   "source": [
    "## 5 ) Getting the Data stationary "
   ]
  },
  {
   "cell_type": "markdown",
   "id": "above-letters",
   "metadata": {},
   "source": [
    "## 6 ) Model Preparation"
   ]
  },
  {
   "cell_type": "markdown",
   "id": "opposed-blanket",
   "metadata": {},
   "source": [
    "## 7 ) Modeling "
   ]
  },
  {
   "cell_type": "markdown",
   "id": "broadband-concept",
   "metadata": {},
   "source": [
    "## 8 ) Model Tuning"
   ]
  },
  {
   "cell_type": "markdown",
   "id": "charitable-filename",
   "metadata": {},
   "source": [
    "## 9 ) Performance Measures "
   ]
  },
  {
   "cell_type": "code",
   "execution_count": null,
   "id": "suited-anchor",
   "metadata": {},
   "outputs": [],
   "source": []
  }
 ],
 "metadata": {
  "kernelspec": {
   "display_name": "Python 3",
   "language": "python",
   "name": "python3"
  },
  "language_info": {
   "codemirror_mode": {
    "name": "ipython",
    "version": 3
   },
   "file_extension": ".py",
   "mimetype": "text/x-python",
   "name": "python",
   "nbconvert_exporter": "python",
   "pygments_lexer": "ipython3",
   "version": "3.7.3"
  }
 },
 "nbformat": 4,
 "nbformat_minor": 5
}
