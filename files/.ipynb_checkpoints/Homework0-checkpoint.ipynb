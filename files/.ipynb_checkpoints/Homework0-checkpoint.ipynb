{
 "cells": [
  {
   "cell_type": "markdown",
   "id": "collaborative-continuity",
   "metadata": {},
   "source": [
    "---\n",
    "# Interesting Forecasting Applications with R\n",
    "## Bugra Taksuk - IE360 - Spring 2021\n",
    "---\n",
    "\n",
    "1.[LSTM algorithm for time series forecasting](https://towardsdatascience.com/time-series-forecasting-with-deep-learning-and-attention-mechanism-2d001fc871fc)\n",
    "\n",
    "- I chose this model because it is very good at predicting stock prices which is a time series data and it implement also the deep learning techniques. Other than that, it is an algorithm we used in one of the competitions online. \n",
    "\n",
    "2.[ARIMA model for predicting future sales](https://towardsdatascience.com/an-end-to-end-project-on-time-series-analysis-and-forecasting-with-python-4835e6bf050b)\n",
    "\n",
    "- I also liked this example because first it is written clearly in python and very readable. Also, as Industrial Engineers, forecasting demand is one of the main things we deal with in order to manage supply chain so I did think that it can be useful in the future.\n",
    "\n",
    "3.[Forecasting Cryptocurrency prices](https://www.analyticsvidhya.com/blog/2018/02/time-series-forecasting-methods/)\n",
    "\n",
    "- Since cryptocurrency market a bit versatile than normal stock prices market, it need more adjustment in case of seasonalities vs., so I think it is a good example to see when there are so many fluctuations \n",
    "\n",
    "4.[Probabilistic solar forecasting benchmarks on a standardized dataset at Folsom](https://www.sciencedirect.com/science/article/pii/S0038092X20305090)\n",
    "\n",
    "- I read this article also becuase we are going to deal with energy data during the course so I thought that it can be useful in terms of terms. \n",
    "\n",
    "5.[Vector Autoregression (VAR)](https://www.machinelearningplus.com/time-series/vector-autoregression-examples-python/)\n",
    "\n",
    "- It is a different method used in the previous examples that's why I chose it "
   ]
  },
  {
   "cell_type": "code",
   "execution_count": null,
   "id": "primary-corrections",
   "metadata": {},
   "outputs": [],
   "source": []
  }
 ],
 "metadata": {
  "kernelspec": {
   "display_name": "Python 3",
   "language": "python",
   "name": "python3"
  },
  "language_info": {
   "codemirror_mode": {
    "name": "ipython",
    "version": 3
   },
   "file_extension": ".py",
   "mimetype": "text/x-python",
   "name": "python",
   "nbconvert_exporter": "python",
   "pygments_lexer": "ipython3",
   "version": "3.7.3"
  }
 },
 "nbformat": 4,
 "nbformat_minor": 5
}
