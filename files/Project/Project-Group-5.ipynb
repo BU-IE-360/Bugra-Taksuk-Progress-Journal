{
 "cells": [
  {
   "cell_type": "markdown",
   "id": "0b3ed20a",
   "metadata": {},
   "source": [
    "# Selamın Aleyküm\n",
    "\n",
    "# Aleyküm Selam\n",
    "\n",
    "# Naber Nassın"
   ]
  },
  {
   "cell_type": "code",
   "execution_count": null,
   "id": "81682548",
   "metadata": {},
   "outputs": [],
   "source": []
  }
 ],
 "metadata": {
  "kernelspec": {
   "display_name": "R",
   "language": "R",
   "name": "ir"
  },
  "language_info": {
   "codemirror_mode": "r",
   "file_extension": ".r",
   "mimetype": "text/x-r-source",
   "name": "R",
   "pygments_lexer": "r",
   "version": "3.6.1"
  }
 },
 "nbformat": 4,
 "nbformat_minor": 5
}
